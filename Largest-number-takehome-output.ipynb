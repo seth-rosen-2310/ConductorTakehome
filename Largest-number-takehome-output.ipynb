{
 "cells": [
  {
   "cell_type": "code",
   "execution_count": 2,
   "metadata": {},
   "outputs": [],
   "source": [
    "from utils import *"
   ]
  },
  {
   "cell_type": "code",
   "execution_count": 3,
   "metadata": {},
   "outputs": [
    {
     "name": "stdout",
     "output_type": "stream",
     "text": [
      "Largest w/o NLP:  6000000\n",
      "Largest w NLP:  30704100000.0\n"
     ]
    }
   ],
   "source": [
    "pdf_path = \"FY25 Air Force Working Capital Fund.pdf\"\n",
    "\n",
    "\n",
    "max1 = extract_largest_basic(pdf_path)\n",
    "print(\"Largest w/o NLP: \", max1)\n",
    "\n",
    "max2 = extract_largest_adv(pdf_path)\n",
    "print(\"Largest w NLP: \", max2)"
   ]
  },
  {
   "cell_type": "code",
   "execution_count": null,
   "metadata": {},
   "outputs": [],
   "source": []
  }
 ],
 "metadata": {
  "kernelspec": {
   "display_name": "parambil_env",
   "language": "python",
   "name": "python3"
  },
  "language_info": {
   "codemirror_mode": {
    "name": "ipython",
    "version": 3
   },
   "file_extension": ".py",
   "mimetype": "text/x-python",
   "name": "python",
   "nbconvert_exporter": "python",
   "pygments_lexer": "ipython3",
   "version": "3.12.4"
  }
 },
 "nbformat": 4,
 "nbformat_minor": 2
}
